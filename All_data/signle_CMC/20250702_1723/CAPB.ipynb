{
 "cells": [
  {
   "cell_type": "code",
   "execution_count": 5,
   "id": "edbb363a",
   "metadata": {},
   "outputs": [],
   "source": [
    "import pandas as pd\n",
    "import numpy as np\n",
    "import matplotlib.pyplot as plt\n",
    "import re\n",
    "from pathlib import Path\n",
    "from scipy.optimize import curve_fit\n",
    "import math"
   ]
  },
  {
   "cell_type": "code",
   "execution_count": 6,
   "id": "b61e207f",
   "metadata": {},
   "outputs": [],
   "source": [
    "def df_process(filepath):\n",
    "\n",
    "    df = pd.read_csv(filepath, header=[0,1], index_col=0)\n",
    "\n",
    "    # Prepare data\n",
    "    df.index.name = 'Sample'\n",
    "    df.columns.names = ['Replicate', 'Wavelength']\n",
    "    df_long = df.stack(level='Replicate').reset_index()\n",
    "    df_long['replicate'] = df_long['Replicate'].str.extract(r'rep(\\d+)').astype(int)\n",
    "    df_long = df_long.drop(columns=['Replicate'])\n",
    "\n",
    "    # Sort by replicate (1, then 2, then 3) and Sample within each group\n",
    "    df_long = df_long.sort_values(['replicate', 'Sample']).reset_index(drop=True)\n",
    "\n",
    "    return df_long"
   ]
  },
  {
   "cell_type": "code",
   "execution_count": 10,
   "id": "dcbbbf5c",
   "metadata": {},
   "outputs": [],
   "source": [
    "base_dirs = ['20250725_1131']\n",
    "# \n",
    "\n",
    "pattern = re.compile(\n",
    "    r'^CAPB_'                 # 固定前缀\n",
    "    r'(?P<time>\\d+)min_'      # 数字 + \"min_\"\n",
    "    r'(?P<assay>[abc])'       # 只允许 a, b, c\n",
    "    r'_raw_multiindex\\.csv$'  # 严格匹配 \".csv\" 并用 $ 尾\n",
    ")\n",
    "\n",
    "\n",
    "# 1) Read & combine output_data\n",
    "out_dfs = []\n",
    "for base in base_dirs:\n",
    "    for path in (Path(base) / 'raw_data').glob('*.csv'):\n",
    "        m = pattern.match(path.name)\n",
    "        if not m:\n",
    "            continue\n",
    "\n",
    "        t    = int(m.group('time'))\n",
    "        assay  = m.group('assay')\n",
    "\n",
    "\n",
    "        df = pd.df_process(path)\n",
    "        print(df.describe())\n",
    "#        df['ratio']      = df['334_373'] / df['334_384']\n",
    "        df['assay']      = assay\n",
    "        df['time']        = t\n",
    "\n",
    "        out_dfs.append(df)\n",
    "\n",
    "# combined_raw = pd.concat(out_dfs, ignore_index=True)\n",
    "\n",
    "# # give each measurement a “row-within-group” index\n",
    "# combined_raw['well_idx'] = (\n",
    "#     combined_raw\n",
    "#       .groupby(['surfactant','time','assay','replicate'])\n",
    "#       .cumcount()\n",
    "# )\n",
    "\n"
   ]
  },
  {
   "cell_type": "code",
   "execution_count": 3,
   "id": "cafbe6e6",
   "metadata": {},
   "outputs": [
    {
     "data": {
      "text/plain": [
       "array([0.089, 0.127, 0.181, 0.258, 0.368, 0.525, 0.749, 1.07 , 1.526,\n",
       "       2.178, 3.108, 4.436])"
      ]
     },
     "execution_count": 3,
     "metadata": {},
     "output_type": "execute_result"
    }
   ],
   "source": [
    "max_conc = 50\n",
    "estimate_cmc = 0.627\n",
    "number_of_points = 12\n",
    "\n",
    "max_conc = max_conc * 0.8  # Allowing for a bit of extra space\n",
    "low = estimate_cmc / (50**0.5)\n",
    "high = estimate_cmc * (50**0.5)\n",
    "\n",
    "if high > max_conc:\n",
    "    print(f\"Warning: High concentration {high} exceeds maximum stock concentration {max_conc}. Adjusting high to max stock concentration.\")\n",
    "    high = max_conc\n",
    "\n",
    "\n",
    "exponent_low = np.round(np.log10(low), 3)\n",
    "exponent_high = np.round(np.log10(high), 3)\n",
    "concentrations = np.round(np.logspace(exponent_low, exponent_high, number_of_points), 3)\n",
    "\n",
    "concentrations"
   ]
  },
  {
   "cell_type": "code",
   "execution_count": null,
   "id": "297dfd68",
   "metadata": {},
   "outputs": [],
   "source": []
  }
 ],
 "metadata": {
  "kernelspec": {
   "display_name": "CMC",
   "language": "python",
   "name": "python3"
  },
  "language_info": {
   "codemirror_mode": {
    "name": "ipython",
    "version": 3
   },
   "file_extension": ".py",
   "mimetype": "text/x-python",
   "name": "python",
   "nbconvert_exporter": "python",
   "pygments_lexer": "ipython3",
   "version": "3.10.16"
  }
 },
 "nbformat": 4,
 "nbformat_minor": 5
}
