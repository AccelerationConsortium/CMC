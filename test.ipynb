{
 "cells": [
  {
   "cell_type": "code",
   "execution_count": 1,
   "metadata": {},
   "outputs": [],
   "source": [
    "import cmc_conc\n",
    "#import cmc_calculation"
   ]
  },
  {
   "cell_type": "code",
   "execution_count": 2,
   "metadata": {},
   "outputs": [],
   "source": [
    "list_of_surfactants = ['surfactant_1', 'surfactant_2', None]\n",
    "list_of_ratios = [0.6, 0.4, 0.0]"
   ]
  },
  {
   "cell_type": "code",
   "execution_count": 3,
   "metadata": {},
   "outputs": [
    {
     "data": {
      "text/plain": [
       "4.06"
      ]
     },
     "execution_count": 3,
     "metadata": {},
     "output_type": "execute_result"
    }
   ],
   "source": [
    "cmc_estimate = cmc_conc.CMC_estimate(list_of_surfactants, list_of_ratios)\n",
    "cmc_estimate"
   ]
  },
  {
   "cell_type": "code",
   "execution_count": null,
   "metadata": {},
   "outputs": [],
   "source": [
    "list_of_surfactants = ['surfactant_1', 'surfactant_2', None]\n",
    "list_of_ratios = [0.6, 0.4, 0.0]"
   ]
  },
  {
   "cell_type": "code",
   "execution_count": 3,
   "metadata": {},
   "outputs": [
    {
     "data": {
      "text/plain": [
       "[1.6833333333333333,\n",
       " 2.38059282999471,\n",
       " 3.3666666666666667,\n",
       " 3.7874999999999996,\n",
       " 4.2924999999999995,\n",
       " 4.797499999999999,\n",
       " 5.3025,\n",
       " 5.8075,\n",
       " 6.3125,\n",
       " 7.575,\n",
       " 10.712667734976193,\n",
       " 15.149999999999999]"
      ]
     },
     "execution_count": 3,
     "metadata": {},
     "output_type": "execute_result"
    }
   ],
   "source": [
    "cmc_concs = cmc_conc.generate_cmc_concentrations(cmc_estimate)\n",
    "cmc_concs"
   ]
  },
  {
   "cell_type": "code",
   "execution_count": 4,
   "metadata": {},
   "outputs": [
    {
     "name": "stdout",
     "output_type": "stream",
     "text": [
      "15.303030303030301\n",
      "{'surfactant_1': 153.030303030303, 'surfactant_2': 153.030303030303, 'Water': 693.939393939394}\n"
     ]
    }
   ],
   "source": [
    "mix_stock_conc, vol = cmc_conc.surfactant_mix(cmc_concs = cmc_concs, s1 = 'surfactant_1', s2 = 'surfactant_2', s1_ratio=0.5)\n",
    "\n",
    "print(mix_stock_conc)\n",
    "print(vol)"
   ]
  },
  {
   "cell_type": "code",
   "execution_count": 5,
   "metadata": {},
   "outputs": [
    {
     "data": {
      "text/plain": [
       "{'surfactant_1': 153.030303030303,\n",
       " 'surfactant_2': 153.030303030303,\n",
       " 'Water': 693.939393939394}"
      ]
     },
     "execution_count": 5,
     "metadata": {},
     "output_type": "execute_result"
    }
   ],
   "source": [
    "vol"
   ]
  },
  {
   "cell_type": "code",
   "execution_count": 6,
   "metadata": {},
   "outputs": [
    {
     "data": {
      "text/html": [
       "<div>\n",
       "<style scoped>\n",
       "    .dataframe tbody tr th:only-of-type {\n",
       "        vertical-align: middle;\n",
       "    }\n",
       "\n",
       "    .dataframe tbody tr th {\n",
       "        vertical-align: top;\n",
       "    }\n",
       "\n",
       "    .dataframe thead th {\n",
       "        text-align: right;\n",
       "    }\n",
       "</style>\n",
       "<table border=\"1\" class=\"dataframe\">\n",
       "  <thead>\n",
       "    <tr style=\"text-align: right;\">\n",
       "      <th></th>\n",
       "      <th>concentration</th>\n",
       "      <th>surfactant volume</th>\n",
       "      <th>water volume</th>\n",
       "      <th>probe volume</th>\n",
       "      <th>total volume</th>\n",
       "    </tr>\n",
       "  </thead>\n",
       "  <tbody>\n",
       "    <tr>\n",
       "      <th>0</th>\n",
       "      <td>1.683333</td>\n",
       "      <td>32.67</td>\n",
       "      <td>264.33</td>\n",
       "      <td>3</td>\n",
       "      <td>300.0</td>\n",
       "    </tr>\n",
       "    <tr>\n",
       "      <th>1</th>\n",
       "      <td>2.380593</td>\n",
       "      <td>46.20</td>\n",
       "      <td>250.80</td>\n",
       "      <td>3</td>\n",
       "      <td>300.0</td>\n",
       "    </tr>\n",
       "    <tr>\n",
       "      <th>2</th>\n",
       "      <td>3.366667</td>\n",
       "      <td>65.34</td>\n",
       "      <td>231.66</td>\n",
       "      <td>3</td>\n",
       "      <td>300.0</td>\n",
       "    </tr>\n",
       "    <tr>\n",
       "      <th>3</th>\n",
       "      <td>3.787500</td>\n",
       "      <td>73.51</td>\n",
       "      <td>223.49</td>\n",
       "      <td>3</td>\n",
       "      <td>300.0</td>\n",
       "    </tr>\n",
       "    <tr>\n",
       "      <th>4</th>\n",
       "      <td>4.292500</td>\n",
       "      <td>83.31</td>\n",
       "      <td>213.69</td>\n",
       "      <td>3</td>\n",
       "      <td>300.0</td>\n",
       "    </tr>\n",
       "    <tr>\n",
       "      <th>5</th>\n",
       "      <td>4.797500</td>\n",
       "      <td>93.11</td>\n",
       "      <td>203.89</td>\n",
       "      <td>3</td>\n",
       "      <td>300.0</td>\n",
       "    </tr>\n",
       "    <tr>\n",
       "      <th>6</th>\n",
       "      <td>5.302500</td>\n",
       "      <td>102.91</td>\n",
       "      <td>194.09</td>\n",
       "      <td>3</td>\n",
       "      <td>300.0</td>\n",
       "    </tr>\n",
       "    <tr>\n",
       "      <th>7</th>\n",
       "      <td>5.807500</td>\n",
       "      <td>112.71</td>\n",
       "      <td>184.29</td>\n",
       "      <td>3</td>\n",
       "      <td>300.0</td>\n",
       "    </tr>\n",
       "    <tr>\n",
       "      <th>8</th>\n",
       "      <td>6.312500</td>\n",
       "      <td>122.51</td>\n",
       "      <td>174.49</td>\n",
       "      <td>3</td>\n",
       "      <td>300.0</td>\n",
       "    </tr>\n",
       "    <tr>\n",
       "      <th>9</th>\n",
       "      <td>7.575000</td>\n",
       "      <td>147.02</td>\n",
       "      <td>149.98</td>\n",
       "      <td>3</td>\n",
       "      <td>300.0</td>\n",
       "    </tr>\n",
       "    <tr>\n",
       "      <th>10</th>\n",
       "      <td>10.712668</td>\n",
       "      <td>207.91</td>\n",
       "      <td>89.09</td>\n",
       "      <td>3</td>\n",
       "      <td>300.0</td>\n",
       "    </tr>\n",
       "    <tr>\n",
       "      <th>11</th>\n",
       "      <td>15.150000</td>\n",
       "      <td>294.03</td>\n",
       "      <td>2.97</td>\n",
       "      <td>3</td>\n",
       "      <td>300.0</td>\n",
       "    </tr>\n",
       "  </tbody>\n",
       "</table>\n",
       "</div>"
      ],
      "text/plain": [
       "    concentration  surfactant volume  water volume  probe volume  total volume\n",
       "0        1.683333              32.67        264.33             3         300.0\n",
       "1        2.380593              46.20        250.80             3         300.0\n",
       "2        3.366667              65.34        231.66             3         300.0\n",
       "3        3.787500              73.51        223.49             3         300.0\n",
       "4        4.292500              83.31        213.69             3         300.0\n",
       "5        4.797500              93.11        203.89             3         300.0\n",
       "6        5.302500             102.91        194.09             3         300.0\n",
       "7        5.807500             112.71        184.29             3         300.0\n",
       "8        6.312500             122.51        174.49             3         300.0\n",
       "9        7.575000             147.02        149.98             3         300.0\n",
       "10      10.712668             207.91         89.09             3         300.0\n",
       "11      15.150000             294.03          2.97             3         300.0"
      ]
     },
     "execution_count": 6,
     "metadata": {},
     "output_type": "execute_result"
    }
   ],
   "source": [
    "df = cmc_conc.calculate_volumes(cmc_concs, mix_stock_conc)\n",
    "df"
   ]
  },
  {
   "cell_type": "code",
   "execution_count": null,
   "metadata": {},
   "outputs": [],
   "source": []
  },
  {
   "cell_type": "code",
   "execution_count": null,
   "metadata": {},
   "outputs": [],
   "source": []
  }
 ],
 "metadata": {
  "kernelspec": {
   "display_name": "CMC",
   "language": "python",
   "name": "python3"
  },
  "language_info": {
   "codemirror_mode": {
    "name": "ipython",
    "version": 3
   },
   "file_extension": ".py",
   "mimetype": "text/x-python",
   "name": "python",
   "nbconvert_exporter": "python",
   "pygments_lexer": "ipython3",
   "version": "3.10.16"
  }
 },
 "nbformat": 4,
 "nbformat_minor": 2
}
