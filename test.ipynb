{
 "cells": [
  {
   "cell_type": "code",
   "execution_count": 1,
   "metadata": {},
   "outputs": [],
   "source": [
    "import cmc_conc\n"
   ]
  },
  {
   "cell_type": "code",
   "execution_count": 2,
   "metadata": {},
   "outputs": [],
   "source": [
    "list_of_surfactants = ['surfactant_1', None, None]\n",
    "list_of_ratios = [1, 0., 0.]"
   ]
  },
  {
   "cell_type": "code",
   "execution_count": 3,
   "metadata": {},
   "outputs": [
    {
     "data": {
      "text/plain": [
       "0.1"
      ]
     },
     "execution_count": 3,
     "metadata": {},
     "output_type": "execute_result"
    }
   ],
   "source": [
    "cmc_estimate = cmc_conc.CMC_estimate(list_of_surfactants, list_of_ratios)\n",
    "cmc_estimate"
   ]
  },
  {
   "cell_type": "code",
   "execution_count": 4,
   "metadata": {},
   "outputs": [
    {
     "data": {
      "text/plain": [
       "[0.03333333333333334,\n",
       " 0.047140452079103154,\n",
       " 0.06666666666666665,\n",
       " 0.07500000000000001,\n",
       " 0.085,\n",
       " 0.095,\n",
       " 0.10500000000000001,\n",
       " 0.115,\n",
       " 0.125,\n",
       " 0.15000000000000005,\n",
       " 0.2121320343559643,\n",
       " 0.30000000000000004]"
      ]
     },
     "execution_count": 4,
     "metadata": {},
     "output_type": "execute_result"
    }
   ],
   "source": [
    "cmc_concs = cmc_conc.generate_cmc_concentrations(cmc_estimate)\n",
    "cmc_concs"
   ]
  },
  {
   "cell_type": "code",
   "execution_count": 5,
   "metadata": {},
   "outputs": [
    {
     "ename": "ValueError",
     "evalue": "too many values to unpack (expected 2)",
     "output_type": "error",
     "traceback": [
      "\u001b[0;31m---------------------------------------------------------------------------\u001b[0m",
      "\u001b[0;31mValueError\u001b[0m                                Traceback (most recent call last)",
      "Cell \u001b[0;32mIn[5], line 1\u001b[0m\n\u001b[0;32m----> 1\u001b[0m mix_stock_conc, vol \u001b[38;5;241m=\u001b[39m cmc_conc\u001b[38;5;241m.\u001b[39msurfactant_mix(cmc_concs \u001b[38;5;241m=\u001b[39m cmc_concs, list_of_surfactants \u001b[38;5;241m=\u001b[39m list_of_surfactants, list_of_ratios \u001b[38;5;241m=\u001b[39m list_of_ratios)\n\u001b[1;32m      3\u001b[0m \u001b[38;5;28mprint\u001b[39m(mix_stock_conc)\n\u001b[1;32m      4\u001b[0m \u001b[38;5;28mprint\u001b[39m(vol)\n",
      "\u001b[0;31mValueError\u001b[0m: too many values to unpack (expected 2)"
     ]
    }
   ],
   "source": [
    "mix_stock_conc, vol = cmc_conc.surfactant_mix(cmc_concs = cmc_concs, list_of_surfactants = list_of_surfactants, list_of_ratios = list_of_ratios)\n",
    "\n",
    "print(mix_stock_conc)\n",
    "print(vol)"
   ]
  },
  {
   "cell_type": "code",
   "execution_count": 20,
   "metadata": {},
   "outputs": [
    {
     "data": {
      "text/plain": [
       "{'surfactant_1': 6.060606060606061,\n",
       " 'Surfactant_2': 0,\n",
       " 'Surfactant_3': 0,\n",
       " 'Water': 993.939393939394}"
      ]
     },
     "execution_count": 20,
     "metadata": {},
     "output_type": "execute_result"
    }
   ],
   "source": [
    "vol"
   ]
  },
  {
   "cell_type": "code",
   "execution_count": 10,
   "metadata": {},
   "outputs": [
    {
     "data": {
      "text/html": [
       "<div>\n",
       "<style scoped>\n",
       "    .dataframe tbody tr th:only-of-type {\n",
       "        vertical-align: middle;\n",
       "    }\n",
       "\n",
       "    .dataframe tbody tr th {\n",
       "        vertical-align: top;\n",
       "    }\n",
       "\n",
       "    .dataframe thead th {\n",
       "        text-align: right;\n",
       "    }\n",
       "</style>\n",
       "<table border=\"1\" class=\"dataframe\">\n",
       "  <thead>\n",
       "    <tr style=\"text-align: right;\">\n",
       "      <th></th>\n",
       "      <th>concentration</th>\n",
       "      <th>surfactant volume</th>\n",
       "      <th>water volume</th>\n",
       "      <th>probe volume</th>\n",
       "      <th>total volume</th>\n",
       "    </tr>\n",
       "  </thead>\n",
       "  <tbody>\n",
       "    <tr>\n",
       "      <th>0</th>\n",
       "      <td>0.016667</td>\n",
       "      <td>32.67</td>\n",
       "      <td>264.33</td>\n",
       "      <td>3</td>\n",
       "      <td>300.0</td>\n",
       "    </tr>\n",
       "    <tr>\n",
       "      <th>1</th>\n",
       "      <td>0.023570</td>\n",
       "      <td>46.20</td>\n",
       "      <td>250.80</td>\n",
       "      <td>3</td>\n",
       "      <td>300.0</td>\n",
       "    </tr>\n",
       "    <tr>\n",
       "      <th>2</th>\n",
       "      <td>0.033333</td>\n",
       "      <td>65.34</td>\n",
       "      <td>231.66</td>\n",
       "      <td>3</td>\n",
       "      <td>300.0</td>\n",
       "    </tr>\n",
       "    <tr>\n",
       "      <th>3</th>\n",
       "      <td>0.037500</td>\n",
       "      <td>73.51</td>\n",
       "      <td>223.49</td>\n",
       "      <td>3</td>\n",
       "      <td>300.0</td>\n",
       "    </tr>\n",
       "    <tr>\n",
       "      <th>4</th>\n",
       "      <td>0.042500</td>\n",
       "      <td>83.31</td>\n",
       "      <td>213.69</td>\n",
       "      <td>3</td>\n",
       "      <td>300.0</td>\n",
       "    </tr>\n",
       "    <tr>\n",
       "      <th>5</th>\n",
       "      <td>0.047500</td>\n",
       "      <td>93.11</td>\n",
       "      <td>203.89</td>\n",
       "      <td>3</td>\n",
       "      <td>300.0</td>\n",
       "    </tr>\n",
       "    <tr>\n",
       "      <th>6</th>\n",
       "      <td>0.052500</td>\n",
       "      <td>102.91</td>\n",
       "      <td>194.09</td>\n",
       "      <td>3</td>\n",
       "      <td>300.0</td>\n",
       "    </tr>\n",
       "    <tr>\n",
       "      <th>7</th>\n",
       "      <td>0.057500</td>\n",
       "      <td>112.71</td>\n",
       "      <td>184.29</td>\n",
       "      <td>3</td>\n",
       "      <td>300.0</td>\n",
       "    </tr>\n",
       "    <tr>\n",
       "      <th>8</th>\n",
       "      <td>0.062500</td>\n",
       "      <td>122.51</td>\n",
       "      <td>174.49</td>\n",
       "      <td>3</td>\n",
       "      <td>300.0</td>\n",
       "    </tr>\n",
       "    <tr>\n",
       "      <th>9</th>\n",
       "      <td>0.075000</td>\n",
       "      <td>147.01</td>\n",
       "      <td>149.99</td>\n",
       "      <td>3</td>\n",
       "      <td>300.0</td>\n",
       "    </tr>\n",
       "    <tr>\n",
       "      <th>10</th>\n",
       "      <td>0.106066</td>\n",
       "      <td>207.91</td>\n",
       "      <td>89.09</td>\n",
       "      <td>3</td>\n",
       "      <td>300.0</td>\n",
       "    </tr>\n",
       "    <tr>\n",
       "      <th>11</th>\n",
       "      <td>0.150000</td>\n",
       "      <td>294.03</td>\n",
       "      <td>2.97</td>\n",
       "      <td>3</td>\n",
       "      <td>300.0</td>\n",
       "    </tr>\n",
       "  </tbody>\n",
       "</table>\n",
       "</div>"
      ],
      "text/plain": [
       "    concentration  surfactant volume  water volume  probe volume  total volume\n",
       "0        0.016667              32.67        264.33             3         300.0\n",
       "1        0.023570              46.20        250.80             3         300.0\n",
       "2        0.033333              65.34        231.66             3         300.0\n",
       "3        0.037500              73.51        223.49             3         300.0\n",
       "4        0.042500              83.31        213.69             3         300.0\n",
       "5        0.047500              93.11        203.89             3         300.0\n",
       "6        0.052500             102.91        194.09             3         300.0\n",
       "7        0.057500             112.71        184.29             3         300.0\n",
       "8        0.062500             122.51        174.49             3         300.0\n",
       "9        0.075000             147.01        149.99             3         300.0\n",
       "10       0.106066             207.91         89.09             3         300.0\n",
       "11       0.150000             294.03          2.97             3         300.0"
      ]
     },
     "execution_count": 10,
     "metadata": {},
     "output_type": "execute_result"
    }
   ],
   "source": [
    "df = cmc_conc.calculate_volumes(cmc_concs, mix_stock_conc)\n",
    "df"
   ]
  },
  {
   "cell_type": "code",
   "execution_count": null,
   "metadata": {},
   "outputs": [
    {
     "data": {
      "text/plain": [
       "['surfactant_1', 'surfactant_2', None]"
      ]
     },
     "execution_count": 10,
     "metadata": {},
     "output_type": "execute_result"
    }
   ],
   "source": [
    "list_of_surfactants"
   ]
  },
  {
   "cell_type": "code",
   "execution_count": 11,
   "metadata": {},
   "outputs": [
    {
     "data": {
      "text/plain": [
       "[0.5, 0.5, 0.0]"
      ]
     },
     "execution_count": 11,
     "metadata": {},
     "output_type": "execute_result"
    }
   ],
   "source": [
    "list_of_ratios"
   ]
  },
  {
   "cell_type": "code",
   "execution_count": 12,
   "metadata": {},
   "outputs": [
    {
     "data": {
      "text/plain": [
       "{'surfactant_1': 153.030303030303,\n",
       " 'surfactant_2': 153.030303030303,\n",
       " 'Water': 693.939393939394}"
      ]
     },
     "execution_count": 12,
     "metadata": {},
     "output_type": "execute_result"
    }
   ],
   "source": [
    "vol"
   ]
  },
  {
   "cell_type": "code",
   "execution_count": 13,
   "metadata": {},
   "outputs": [
    {
     "data": {
      "text/html": [
       "<div>\n",
       "<style scoped>\n",
       "    .dataframe tbody tr th:only-of-type {\n",
       "        vertical-align: middle;\n",
       "    }\n",
       "\n",
       "    .dataframe tbody tr th {\n",
       "        vertical-align: top;\n",
       "    }\n",
       "\n",
       "    .dataframe thead th {\n",
       "        text-align: right;\n",
       "    }\n",
       "</style>\n",
       "<table border=\"1\" class=\"dataframe\">\n",
       "  <thead>\n",
       "    <tr style=\"text-align: right;\">\n",
       "      <th></th>\n",
       "      <th>concentration</th>\n",
       "      <th>surfactant volume</th>\n",
       "      <th>water volume</th>\n",
       "      <th>probe volume</th>\n",
       "      <th>total volume</th>\n",
       "    </tr>\n",
       "  </thead>\n",
       "  <tbody>\n",
       "    <tr>\n",
       "      <th>0</th>\n",
       "      <td>1.683333</td>\n",
       "      <td>32.67</td>\n",
       "      <td>264.33</td>\n",
       "      <td>3</td>\n",
       "      <td>300.0</td>\n",
       "    </tr>\n",
       "    <tr>\n",
       "      <th>1</th>\n",
       "      <td>2.380593</td>\n",
       "      <td>46.20</td>\n",
       "      <td>250.80</td>\n",
       "      <td>3</td>\n",
       "      <td>300.0</td>\n",
       "    </tr>\n",
       "    <tr>\n",
       "      <th>2</th>\n",
       "      <td>3.366667</td>\n",
       "      <td>65.34</td>\n",
       "      <td>231.66</td>\n",
       "      <td>3</td>\n",
       "      <td>300.0</td>\n",
       "    </tr>\n",
       "    <tr>\n",
       "      <th>3</th>\n",
       "      <td>3.787500</td>\n",
       "      <td>73.51</td>\n",
       "      <td>223.49</td>\n",
       "      <td>3</td>\n",
       "      <td>300.0</td>\n",
       "    </tr>\n",
       "    <tr>\n",
       "      <th>4</th>\n",
       "      <td>4.292500</td>\n",
       "      <td>83.31</td>\n",
       "      <td>213.69</td>\n",
       "      <td>3</td>\n",
       "      <td>300.0</td>\n",
       "    </tr>\n",
       "    <tr>\n",
       "      <th>5</th>\n",
       "      <td>4.797500</td>\n",
       "      <td>93.11</td>\n",
       "      <td>203.89</td>\n",
       "      <td>3</td>\n",
       "      <td>300.0</td>\n",
       "    </tr>\n",
       "    <tr>\n",
       "      <th>6</th>\n",
       "      <td>5.302500</td>\n",
       "      <td>102.91</td>\n",
       "      <td>194.09</td>\n",
       "      <td>3</td>\n",
       "      <td>300.0</td>\n",
       "    </tr>\n",
       "    <tr>\n",
       "      <th>7</th>\n",
       "      <td>5.807500</td>\n",
       "      <td>112.71</td>\n",
       "      <td>184.29</td>\n",
       "      <td>3</td>\n",
       "      <td>300.0</td>\n",
       "    </tr>\n",
       "    <tr>\n",
       "      <th>8</th>\n",
       "      <td>6.312500</td>\n",
       "      <td>122.51</td>\n",
       "      <td>174.49</td>\n",
       "      <td>3</td>\n",
       "      <td>300.0</td>\n",
       "    </tr>\n",
       "    <tr>\n",
       "      <th>9</th>\n",
       "      <td>7.575000</td>\n",
       "      <td>147.02</td>\n",
       "      <td>149.98</td>\n",
       "      <td>3</td>\n",
       "      <td>300.0</td>\n",
       "    </tr>\n",
       "    <tr>\n",
       "      <th>10</th>\n",
       "      <td>10.712668</td>\n",
       "      <td>207.91</td>\n",
       "      <td>89.09</td>\n",
       "      <td>3</td>\n",
       "      <td>300.0</td>\n",
       "    </tr>\n",
       "    <tr>\n",
       "      <th>11</th>\n",
       "      <td>15.150000</td>\n",
       "      <td>294.03</td>\n",
       "      <td>2.97</td>\n",
       "      <td>3</td>\n",
       "      <td>300.0</td>\n",
       "    </tr>\n",
       "  </tbody>\n",
       "</table>\n",
       "</div>"
      ],
      "text/plain": [
       "    concentration  surfactant volume  water volume  probe volume  total volume\n",
       "0        1.683333              32.67        264.33             3         300.0\n",
       "1        2.380593              46.20        250.80             3         300.0\n",
       "2        3.366667              65.34        231.66             3         300.0\n",
       "3        3.787500              73.51        223.49             3         300.0\n",
       "4        4.292500              83.31        213.69             3         300.0\n",
       "5        4.797500              93.11        203.89             3         300.0\n",
       "6        5.302500             102.91        194.09             3         300.0\n",
       "7        5.807500             112.71        184.29             3         300.0\n",
       "8        6.312500             122.51        174.49             3         300.0\n",
       "9        7.575000             147.02        149.98             3         300.0\n",
       "10      10.712668             207.91         89.09             3         300.0\n",
       "11      15.150000             294.03          2.97             3         300.0"
      ]
     },
     "execution_count": 13,
     "metadata": {},
     "output_type": "execute_result"
    }
   ],
   "source": [
    "df"
   ]
  },
  {
   "cell_type": "code",
   "execution_count": null,
   "metadata": {},
   "outputs": [],
   "source": []
  }
 ],
 "metadata": {
  "kernelspec": {
   "display_name": "CMC",
   "language": "python",
   "name": "python3"
  },
  "language_info": {
   "codemirror_mode": {
    "name": "ipython",
    "version": 3
   },
   "file_extension": ".py",
   "mimetype": "text/x-python",
   "name": "python",
   "nbconvert_exporter": "python",
   "pygments_lexer": "ipython3",
   "version": "3.10.16"
  }
 },
 "nbformat": 4,
 "nbformat_minor": 2
}
