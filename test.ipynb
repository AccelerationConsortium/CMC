{
 "cells": [
  {
   "cell_type": "code",
   "execution_count": 2,
   "metadata": {},
   "outputs": [],
   "source": [
    "import cmc_conc\n",
    "import cmc_calculation"
   ]
  },
  {
   "cell_type": "code",
   "execution_count": null,
   "metadata": {},
   "outputs": [],
   "source": []
  },
  {
   "cell_type": "code",
   "execution_count": 3,
   "metadata": {},
   "outputs": [
    {
     "data": {
      "text/plain": [
       "5.05"
      ]
     },
     "execution_count": 3,
     "metadata": {},
     "output_type": "execute_result"
    }
   ],
   "source": [
    "cmc_estimate = cmc_conc.CMC_estimate(s1 = 'surfactant_1', s2 = 'surfactant_2', s1_ratio=0.5)\n",
    "cmc_estimate"
   ]
  },
  {
   "cell_type": "code",
   "execution_count": 4,
   "metadata": {},
   "outputs": [
    {
     "data": {
      "text/plain": [
       "[1.6833333333333333,\n",
       " 2.38059282999471,\n",
       " 3.3666666666666667,\n",
       " 3.7874999999999996,\n",
       " 4.2924999999999995,\n",
       " 4.797499999999999,\n",
       " 5.3025,\n",
       " 5.8075,\n",
       " 6.3125,\n",
       " 7.575,\n",
       " 10.712667734976193,\n",
       " 15.149999999999999]"
      ]
     },
     "execution_count": 4,
     "metadata": {},
     "output_type": "execute_result"
    }
   ],
   "source": [
    "cmc_concs = cmc_conc.generate_cmc_concentrations(cmc_estimate)\n",
    "cmc_concs"
   ]
  },
  {
   "cell_type": "code",
   "execution_count": 7,
   "metadata": {},
   "outputs": [
    {
     "name": "stdout",
     "output_type": "stream",
     "text": [
      "15.303030303030301\n",
      "{'surfactant_1': 153.030303030303, 'surfactant_2': 153.030303030303, 'Water': 693.939393939394}\n"
     ]
    }
   ],
   "source": [
    "mix_stock_conc, vol = cmc_conc.surfactant_mix(cmc_concs = cmc_concs, s1 = 'surfactant_1', s2 = 'surfactant_2', s1_ratio=0.5)\n",
    "\n",
    "print(mix_stock_conc)\n",
    "print(vol)"
   ]
  },
  {
   "cell_type": "code",
   "execution_count": 30,
   "metadata": {},
   "outputs": [
    {
     "data": {
      "text/plain": [
       "{'surfactant_1': 153.030303030303,\n",
       " 'surfactant_2': 153.030303030303,\n",
       " 'Water': 693.939393939394}"
      ]
     },
     "execution_count": 30,
     "metadata": {},
     "output_type": "execute_result"
    }
   ],
   "source": [
    "vol"
   ]
  },
  {
   "cell_type": "code",
   "execution_count": null,
   "metadata": {},
   "outputs": [],
   "source": []
  }
 ],
 "metadata": {
  "kernelspec": {
   "display_name": "CMC",
   "language": "python",
   "name": "python3"
  },
  "language_info": {
   "codemirror_mode": {
    "name": "ipython",
    "version": 3
   },
   "file_extension": ".py",
   "mimetype": "text/x-python",
   "name": "python",
   "nbconvert_exporter": "python",
   "pygments_lexer": "ipython3",
   "version": "3.10.16"
  }
 },
 "nbformat": 4,
 "nbformat_minor": 2
}
