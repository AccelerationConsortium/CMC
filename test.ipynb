{
 "cells": [
  {
   "cell_type": "code",
   "execution_count": 1,
   "metadata": {},
   "outputs": [],
   "source": [
    "import cmc_conc\n"
   ]
  },
  {
   "cell_type": "code",
   "execution_count": 2,
   "metadata": {},
   "outputs": [],
   "source": [
    "list_of_surfactants = ['surfactant_1', None, None]\n",
    "list_of_ratios = [1, 0., 0.]"
   ]
  },
  {
   "cell_type": "code",
   "execution_count": 3,
   "metadata": {},
   "outputs": [
    {
     "data": {
      "text/plain": [
       "0.1"
      ]
     },
     "execution_count": 3,
     "metadata": {},
     "output_type": "execute_result"
    }
   ],
   "source": [
    "cmc_estimate = cmc_conc.CMC_estimate(list_of_surfactants, list_of_ratios)\n",
    "cmc_estimate"
   ]
  },
  {
   "cell_type": "code",
   "execution_count": 4,
   "metadata": {},
   "outputs": [
    {
     "data": {
      "text/plain": [
       "[0.03333333333333334,\n",
       " 0.047140452079103154,\n",
       " 0.06666666666666665,\n",
       " 0.07500000000000001,\n",
       " 0.085,\n",
       " 0.095,\n",
       " 0.10500000000000001,\n",
       " 0.115,\n",
       " 0.125,\n",
       " 0.15000000000000005,\n",
       " 0.2121320343559643,\n",
       " 0.30000000000000004]"
      ]
     },
     "execution_count": 4,
     "metadata": {},
     "output_type": "execute_result"
    }
   ],
   "source": [
    "cmc_concs = cmc_conc.generate_cmc_concentrations(cmc_estimate)\n",
    "cmc_concs"
   ]
  },
  {
   "cell_type": "code",
   "execution_count": 5,
   "metadata": {},
   "outputs": [
    {
     "name": "stdout",
     "output_type": "stream",
     "text": [
      "0.3030303030303031\n",
      "{'surfactant_1': 6.060606060606061, 'None_2': 0, 'None_3': 0, 'Water': 993.939393939394}\n"
     ]
    }
   ],
   "source": [
    "mix_stock_conc, vol = cmc_conc.surfactant_mix(cmc_concs = cmc_concs, list_of_surfactants = list_of_surfactants, list_of_ratios = list_of_ratios)\n",
    "\n",
    "print(mix_stock_conc)\n",
    "print(vol)"
   ]
  },
  {
   "cell_type": "code",
   "execution_count": 6,
   "metadata": {},
   "outputs": [
    {
     "data": {
      "text/plain": [
       "{'surfactant_1': 6.060606060606061,\n",
       " 'None_2': 0,\n",
       " 'None_3': 0,\n",
       " 'Water': 993.939393939394}"
      ]
     },
     "execution_count": 6,
     "metadata": {},
     "output_type": "execute_result"
    }
   ],
   "source": [
    "vol"
   ]
  },
  {
   "cell_type": "code",
   "execution_count": 7,
   "metadata": {},
   "outputs": [
    {
     "data": {
      "text/html": [
       "<div>\n",
       "<style scoped>\n",
       "    .dataframe tbody tr th:only-of-type {\n",
       "        vertical-align: middle;\n",
       "    }\n",
       "\n",
       "    .dataframe tbody tr th {\n",
       "        vertical-align: top;\n",
       "    }\n",
       "\n",
       "    .dataframe thead th {\n",
       "        text-align: right;\n",
       "    }\n",
       "</style>\n",
       "<table border=\"1\" class=\"dataframe\">\n",
       "  <thead>\n",
       "    <tr style=\"text-align: right;\">\n",
       "      <th></th>\n",
       "      <th>concentration</th>\n",
       "      <th>surfactant volume</th>\n",
       "      <th>water volume</th>\n",
       "      <th>probe volume</th>\n",
       "      <th>total volume</th>\n",
       "    </tr>\n",
       "  </thead>\n",
       "  <tbody>\n",
       "    <tr>\n",
       "      <th>0</th>\n",
       "      <td>0.033333</td>\n",
       "      <td>32.67</td>\n",
       "      <td>264.33</td>\n",
       "      <td>3</td>\n",
       "      <td>300.0</td>\n",
       "    </tr>\n",
       "    <tr>\n",
       "      <th>1</th>\n",
       "      <td>0.047140</td>\n",
       "      <td>46.20</td>\n",
       "      <td>250.80</td>\n",
       "      <td>3</td>\n",
       "      <td>300.0</td>\n",
       "    </tr>\n",
       "    <tr>\n",
       "      <th>2</th>\n",
       "      <td>0.066667</td>\n",
       "      <td>65.34</td>\n",
       "      <td>231.66</td>\n",
       "      <td>3</td>\n",
       "      <td>300.0</td>\n",
       "    </tr>\n",
       "    <tr>\n",
       "      <th>3</th>\n",
       "      <td>0.075000</td>\n",
       "      <td>73.51</td>\n",
       "      <td>223.49</td>\n",
       "      <td>3</td>\n",
       "      <td>300.0</td>\n",
       "    </tr>\n",
       "    <tr>\n",
       "      <th>4</th>\n",
       "      <td>0.085000</td>\n",
       "      <td>83.31</td>\n",
       "      <td>213.69</td>\n",
       "      <td>3</td>\n",
       "      <td>300.0</td>\n",
       "    </tr>\n",
       "    <tr>\n",
       "      <th>5</th>\n",
       "      <td>0.095000</td>\n",
       "      <td>93.11</td>\n",
       "      <td>203.89</td>\n",
       "      <td>3</td>\n",
       "      <td>300.0</td>\n",
       "    </tr>\n",
       "    <tr>\n",
       "      <th>6</th>\n",
       "      <td>0.105000</td>\n",
       "      <td>102.91</td>\n",
       "      <td>194.09</td>\n",
       "      <td>3</td>\n",
       "      <td>300.0</td>\n",
       "    </tr>\n",
       "    <tr>\n",
       "      <th>7</th>\n",
       "      <td>0.115000</td>\n",
       "      <td>112.71</td>\n",
       "      <td>184.29</td>\n",
       "      <td>3</td>\n",
       "      <td>300.0</td>\n",
       "    </tr>\n",
       "    <tr>\n",
       "      <th>8</th>\n",
       "      <td>0.125000</td>\n",
       "      <td>122.51</td>\n",
       "      <td>174.49</td>\n",
       "      <td>3</td>\n",
       "      <td>300.0</td>\n",
       "    </tr>\n",
       "    <tr>\n",
       "      <th>9</th>\n",
       "      <td>0.150000</td>\n",
       "      <td>147.02</td>\n",
       "      <td>149.98</td>\n",
       "      <td>3</td>\n",
       "      <td>300.0</td>\n",
       "    </tr>\n",
       "    <tr>\n",
       "      <th>10</th>\n",
       "      <td>0.212132</td>\n",
       "      <td>207.91</td>\n",
       "      <td>89.09</td>\n",
       "      <td>3</td>\n",
       "      <td>300.0</td>\n",
       "    </tr>\n",
       "    <tr>\n",
       "      <th>11</th>\n",
       "      <td>0.300000</td>\n",
       "      <td>294.03</td>\n",
       "      <td>2.97</td>\n",
       "      <td>3</td>\n",
       "      <td>300.0</td>\n",
       "    </tr>\n",
       "  </tbody>\n",
       "</table>\n",
       "</div>"
      ],
      "text/plain": [
       "    concentration  surfactant volume  water volume  probe volume  total volume\n",
       "0        0.033333              32.67        264.33             3         300.0\n",
       "1        0.047140              46.20        250.80             3         300.0\n",
       "2        0.066667              65.34        231.66             3         300.0\n",
       "3        0.075000              73.51        223.49             3         300.0\n",
       "4        0.085000              83.31        213.69             3         300.0\n",
       "5        0.095000              93.11        203.89             3         300.0\n",
       "6        0.105000             102.91        194.09             3         300.0\n",
       "7        0.115000             112.71        184.29             3         300.0\n",
       "8        0.125000             122.51        174.49             3         300.0\n",
       "9        0.150000             147.02        149.98             3         300.0\n",
       "10       0.212132             207.91         89.09             3         300.0\n",
       "11       0.300000             294.03          2.97             3         300.0"
      ]
     },
     "execution_count": 7,
     "metadata": {},
     "output_type": "execute_result"
    }
   ],
   "source": [
    "df = cmc_conc.calculate_volumes(cmc_concs, mix_stock_conc)\n",
    "df"
   ]
  },
  {
   "cell_type": "code",
   "execution_count": 8,
   "metadata": {},
   "outputs": [
    {
     "data": {
      "text/plain": [
       "['surfactant_1', None, None]"
      ]
     },
     "execution_count": 8,
     "metadata": {},
     "output_type": "execute_result"
    }
   ],
   "source": [
    "list_of_surfactants"
   ]
  },
  {
   "cell_type": "code",
   "execution_count": 9,
   "metadata": {},
   "outputs": [
    {
     "data": {
      "text/plain": [
       "[1, 0.0, 0.0]"
      ]
     },
     "execution_count": 9,
     "metadata": {},
     "output_type": "execute_result"
    }
   ],
   "source": [
    "list_of_ratios"
   ]
  },
  {
   "cell_type": "code",
   "execution_count": 10,
   "metadata": {},
   "outputs": [
    {
     "data": {
      "text/plain": [
       "{'surfactant_1': 6.060606060606061,\n",
       " 'None_2': 0,\n",
       " 'None_3': 0,\n",
       " 'Water': 993.939393939394}"
      ]
     },
     "execution_count": 10,
     "metadata": {},
     "output_type": "execute_result"
    }
   ],
   "source": [
    "vol"
   ]
  },
  {
   "cell_type": "code",
   "execution_count": 11,
   "metadata": {},
   "outputs": [
    {
     "data": {
      "text/html": [
       "<div>\n",
       "<style scoped>\n",
       "    .dataframe tbody tr th:only-of-type {\n",
       "        vertical-align: middle;\n",
       "    }\n",
       "\n",
       "    .dataframe tbody tr th {\n",
       "        vertical-align: top;\n",
       "    }\n",
       "\n",
       "    .dataframe thead th {\n",
       "        text-align: right;\n",
       "    }\n",
       "</style>\n",
       "<table border=\"1\" class=\"dataframe\">\n",
       "  <thead>\n",
       "    <tr style=\"text-align: right;\">\n",
       "      <th></th>\n",
       "      <th>concentration</th>\n",
       "      <th>surfactant volume</th>\n",
       "      <th>water volume</th>\n",
       "      <th>probe volume</th>\n",
       "      <th>total volume</th>\n",
       "    </tr>\n",
       "  </thead>\n",
       "  <tbody>\n",
       "    <tr>\n",
       "      <th>0</th>\n",
       "      <td>0.033333</td>\n",
       "      <td>32.67</td>\n",
       "      <td>264.33</td>\n",
       "      <td>3</td>\n",
       "      <td>300.0</td>\n",
       "    </tr>\n",
       "    <tr>\n",
       "      <th>1</th>\n",
       "      <td>0.047140</td>\n",
       "      <td>46.20</td>\n",
       "      <td>250.80</td>\n",
       "      <td>3</td>\n",
       "      <td>300.0</td>\n",
       "    </tr>\n",
       "    <tr>\n",
       "      <th>2</th>\n",
       "      <td>0.066667</td>\n",
       "      <td>65.34</td>\n",
       "      <td>231.66</td>\n",
       "      <td>3</td>\n",
       "      <td>300.0</td>\n",
       "    </tr>\n",
       "    <tr>\n",
       "      <th>3</th>\n",
       "      <td>0.075000</td>\n",
       "      <td>73.51</td>\n",
       "      <td>223.49</td>\n",
       "      <td>3</td>\n",
       "      <td>300.0</td>\n",
       "    </tr>\n",
       "    <tr>\n",
       "      <th>4</th>\n",
       "      <td>0.085000</td>\n",
       "      <td>83.31</td>\n",
       "      <td>213.69</td>\n",
       "      <td>3</td>\n",
       "      <td>300.0</td>\n",
       "    </tr>\n",
       "    <tr>\n",
       "      <th>5</th>\n",
       "      <td>0.095000</td>\n",
       "      <td>93.11</td>\n",
       "      <td>203.89</td>\n",
       "      <td>3</td>\n",
       "      <td>300.0</td>\n",
       "    </tr>\n",
       "    <tr>\n",
       "      <th>6</th>\n",
       "      <td>0.105000</td>\n",
       "      <td>102.91</td>\n",
       "      <td>194.09</td>\n",
       "      <td>3</td>\n",
       "      <td>300.0</td>\n",
       "    </tr>\n",
       "    <tr>\n",
       "      <th>7</th>\n",
       "      <td>0.115000</td>\n",
       "      <td>112.71</td>\n",
       "      <td>184.29</td>\n",
       "      <td>3</td>\n",
       "      <td>300.0</td>\n",
       "    </tr>\n",
       "    <tr>\n",
       "      <th>8</th>\n",
       "      <td>0.125000</td>\n",
       "      <td>122.51</td>\n",
       "      <td>174.49</td>\n",
       "      <td>3</td>\n",
       "      <td>300.0</td>\n",
       "    </tr>\n",
       "    <tr>\n",
       "      <th>9</th>\n",
       "      <td>0.150000</td>\n",
       "      <td>147.02</td>\n",
       "      <td>149.98</td>\n",
       "      <td>3</td>\n",
       "      <td>300.0</td>\n",
       "    </tr>\n",
       "    <tr>\n",
       "      <th>10</th>\n",
       "      <td>0.212132</td>\n",
       "      <td>207.91</td>\n",
       "      <td>89.09</td>\n",
       "      <td>3</td>\n",
       "      <td>300.0</td>\n",
       "    </tr>\n",
       "    <tr>\n",
       "      <th>11</th>\n",
       "      <td>0.300000</td>\n",
       "      <td>294.03</td>\n",
       "      <td>2.97</td>\n",
       "      <td>3</td>\n",
       "      <td>300.0</td>\n",
       "    </tr>\n",
       "  </tbody>\n",
       "</table>\n",
       "</div>"
      ],
      "text/plain": [
       "    concentration  surfactant volume  water volume  probe volume  total volume\n",
       "0        0.033333              32.67        264.33             3         300.0\n",
       "1        0.047140              46.20        250.80             3         300.0\n",
       "2        0.066667              65.34        231.66             3         300.0\n",
       "3        0.075000              73.51        223.49             3         300.0\n",
       "4        0.085000              83.31        213.69             3         300.0\n",
       "5        0.095000              93.11        203.89             3         300.0\n",
       "6        0.105000             102.91        194.09             3         300.0\n",
       "7        0.115000             112.71        184.29             3         300.0\n",
       "8        0.125000             122.51        174.49             3         300.0\n",
       "9        0.150000             147.02        149.98             3         300.0\n",
       "10       0.212132             207.91         89.09             3         300.0\n",
       "11       0.300000             294.03          2.97             3         300.0"
      ]
     },
     "execution_count": 11,
     "metadata": {},
     "output_type": "execute_result"
    }
   ],
   "source": [
    "df"
   ]
  },
  {
   "cell_type": "code",
   "execution_count": 12,
   "metadata": {},
   "outputs": [],
   "source": [
    "exp = cmc_conc.generate_exp(list_of_surfactants, list_of_ratios)"
   ]
  },
  {
   "cell_type": "code",
   "execution_count": 13,
   "metadata": {},
   "outputs": [
    {
     "data": {
      "text/html": [
       "<div>\n",
       "<style scoped>\n",
       "    .dataframe tbody tr th:only-of-type {\n",
       "        vertical-align: middle;\n",
       "    }\n",
       "\n",
       "    .dataframe tbody tr th {\n",
       "        vertical-align: top;\n",
       "    }\n",
       "\n",
       "    .dataframe thead th {\n",
       "        text-align: right;\n",
       "    }\n",
       "</style>\n",
       "<table border=\"1\" class=\"dataframe\">\n",
       "  <thead>\n",
       "    <tr style=\"text-align: right;\">\n",
       "      <th></th>\n",
       "      <th>concentration</th>\n",
       "      <th>surfactant volume</th>\n",
       "      <th>water volume</th>\n",
       "      <th>probe volume</th>\n",
       "      <th>total volume</th>\n",
       "    </tr>\n",
       "  </thead>\n",
       "  <tbody>\n",
       "    <tr>\n",
       "      <th>0</th>\n",
       "      <td>0.033333</td>\n",
       "      <td>32.67</td>\n",
       "      <td>264.33</td>\n",
       "      <td>3</td>\n",
       "      <td>300.0</td>\n",
       "    </tr>\n",
       "    <tr>\n",
       "      <th>1</th>\n",
       "      <td>0.047140</td>\n",
       "      <td>46.20</td>\n",
       "      <td>250.80</td>\n",
       "      <td>3</td>\n",
       "      <td>300.0</td>\n",
       "    </tr>\n",
       "    <tr>\n",
       "      <th>2</th>\n",
       "      <td>0.066667</td>\n",
       "      <td>65.34</td>\n",
       "      <td>231.66</td>\n",
       "      <td>3</td>\n",
       "      <td>300.0</td>\n",
       "    </tr>\n",
       "    <tr>\n",
       "      <th>3</th>\n",
       "      <td>0.075000</td>\n",
       "      <td>73.51</td>\n",
       "      <td>223.49</td>\n",
       "      <td>3</td>\n",
       "      <td>300.0</td>\n",
       "    </tr>\n",
       "    <tr>\n",
       "      <th>4</th>\n",
       "      <td>0.085000</td>\n",
       "      <td>83.31</td>\n",
       "      <td>213.69</td>\n",
       "      <td>3</td>\n",
       "      <td>300.0</td>\n",
       "    </tr>\n",
       "    <tr>\n",
       "      <th>5</th>\n",
       "      <td>0.095000</td>\n",
       "      <td>93.11</td>\n",
       "      <td>203.89</td>\n",
       "      <td>3</td>\n",
       "      <td>300.0</td>\n",
       "    </tr>\n",
       "    <tr>\n",
       "      <th>6</th>\n",
       "      <td>0.105000</td>\n",
       "      <td>102.91</td>\n",
       "      <td>194.09</td>\n",
       "      <td>3</td>\n",
       "      <td>300.0</td>\n",
       "    </tr>\n",
       "    <tr>\n",
       "      <th>7</th>\n",
       "      <td>0.115000</td>\n",
       "      <td>112.71</td>\n",
       "      <td>184.29</td>\n",
       "      <td>3</td>\n",
       "      <td>300.0</td>\n",
       "    </tr>\n",
       "    <tr>\n",
       "      <th>8</th>\n",
       "      <td>0.125000</td>\n",
       "      <td>122.51</td>\n",
       "      <td>174.49</td>\n",
       "      <td>3</td>\n",
       "      <td>300.0</td>\n",
       "    </tr>\n",
       "    <tr>\n",
       "      <th>9</th>\n",
       "      <td>0.150000</td>\n",
       "      <td>147.02</td>\n",
       "      <td>149.98</td>\n",
       "      <td>3</td>\n",
       "      <td>300.0</td>\n",
       "    </tr>\n",
       "    <tr>\n",
       "      <th>10</th>\n",
       "      <td>0.212132</td>\n",
       "      <td>207.91</td>\n",
       "      <td>89.09</td>\n",
       "      <td>3</td>\n",
       "      <td>300.0</td>\n",
       "    </tr>\n",
       "    <tr>\n",
       "      <th>11</th>\n",
       "      <td>0.300000</td>\n",
       "      <td>294.03</td>\n",
       "      <td>2.97</td>\n",
       "      <td>3</td>\n",
       "      <td>300.0</td>\n",
       "    </tr>\n",
       "  </tbody>\n",
       "</table>\n",
       "</div>"
      ],
      "text/plain": [
       "    concentration  surfactant volume  water volume  probe volume  total volume\n",
       "0        0.033333              32.67        264.33             3         300.0\n",
       "1        0.047140              46.20        250.80             3         300.0\n",
       "2        0.066667              65.34        231.66             3         300.0\n",
       "3        0.075000              73.51        223.49             3         300.0\n",
       "4        0.085000              83.31        213.69             3         300.0\n",
       "5        0.095000              93.11        203.89             3         300.0\n",
       "6        0.105000             102.91        194.09             3         300.0\n",
       "7        0.115000             112.71        184.29             3         300.0\n",
       "8        0.125000             122.51        174.49             3         300.0\n",
       "9        0.150000             147.02        149.98             3         300.0\n",
       "10       0.212132             207.91         89.09             3         300.0\n",
       "11       0.300000             294.03          2.97             3         300.0"
      ]
     },
     "execution_count": 13,
     "metadata": {},
     "output_type": "execute_result"
    }
   ],
   "source": [
    "exp['df']"
   ]
  },
  {
   "cell_type": "code",
   "execution_count": 14,
   "metadata": {},
   "outputs": [
    {
     "name": "stdout",
     "output_type": "stream",
     "text": [
      "list_of_surfactants\n",
      "['surfactant_1', None, None]\n",
      "\n",
      "list_of_ratios\n",
      "[1, 0.0, 0.0]\n",
      "\n",
      "stock_concs\n",
      "[50, 50, 50]\n",
      "\n",
      "mix_stock_conc\n",
      "0.3030303030303031\n",
      "\n",
      "mix_stock_vol\n",
      "{'surfactant_1': 6.060606060606061, 'None_2': 0, 'None_3': 0, 'Water': 993.939393939394}\n",
      "\n",
      "estimated_CMC\n",
      "0.1\n",
      "\n",
      "cmc_concentrations\n",
      "[0.03333333333333334, 0.047140452079103154, 0.06666666666666665, 0.07500000000000001, 0.085, 0.095, 0.10500000000000001, 0.115, 0.125, 0.15000000000000005, 0.2121320343559643, 0.30000000000000004]\n",
      "\n",
      "df\n",
      "    concentration  surfactant volume  water volume  probe volume  total volume\n",
      "0        0.033333              32.67        264.33             3         300.0\n",
      "1        0.047140              46.20        250.80             3         300.0\n",
      "2        0.066667              65.34        231.66             3         300.0\n",
      "3        0.075000              73.51        223.49             3         300.0\n",
      "4        0.085000              83.31        213.69             3         300.0\n",
      "5        0.095000              93.11        203.89             3         300.0\n",
      "6        0.105000             102.91        194.09             3         300.0\n",
      "7        0.115000             112.71        184.29             3         300.0\n",
      "8        0.125000             122.51        174.49             3         300.0\n",
      "9        0.150000             147.02        149.98             3         300.0\n",
      "10       0.212132             207.91         89.09             3         300.0\n",
      "11       0.300000             294.03          2.97             3         300.0\n",
      "\n"
     ]
    }
   ],
   "source": [
    "for key in exp.keys():\n",
    "    print (key)\n",
    "    print(exp[key])\n",
    "    print()"
   ]
  },
  {
   "cell_type": "code",
   "execution_count": null,
   "metadata": {},
   "outputs": [],
   "source": []
  }
 ],
 "metadata": {
  "kernelspec": {
   "display_name": "CMC",
   "language": "python",
   "name": "python3"
  },
  "language_info": {
   "codemirror_mode": {
    "name": "ipython",
    "version": 3
   },
   "file_extension": ".py",
   "mimetype": "text/x-python",
   "name": "python",
   "nbconvert_exporter": "python",
   "pygments_lexer": "ipython3",
   "version": "3.10.16"
  }
 },
 "nbformat": 4,
 "nbformat_minor": 2
}
