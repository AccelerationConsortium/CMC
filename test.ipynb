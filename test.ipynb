{
 "cells": [
  {
   "cell_type": "code",
   "execution_count": 1,
   "metadata": {},
   "outputs": [],
   "source": [
    "import sys\n",
    "import pickle\n",
    "sys.path.append('./helper_functions')  # Add the helper_functions folder to the path\n",
    "\n",
    "import cmc_exp\n",
    "from cmc_generate_protocol import make_OTFlex_protocol\n",
    "import pickle\n"
   ]
  },
  {
   "cell_type": "code",
   "execution_count": 2,
   "metadata": {},
   "outputs": [],
   "source": [
    "# Define experiments\n",
    "\n",
    "list_of_surfactants_1 = ['T80', 'CHAPS', None]\n",
    "list_of_ratios_1 = [0.7, 0.3, 0.]\n",
    "\n",
    "list_of_surfactants_2 = ['NaC', None, None]\n",
    "list_of_ratios_2 = [1., 0., 0.]\n",
    "\n",
    "list_of_surfactants_3 = ['BAC', 'SDS', None]\n",
    "list_of_ratios_3 = [0.2, 0.8, 0.]"
   ]
  },
  {
   "cell_type": "code",
   "execution_count": 3,
   "metadata": {},
   "outputs": [],
   "source": [
    "list_of_surfactants_all = [list_of_surfactants_1, list_of_surfactants_2, list_of_surfactants_3]\n",
    "list_of_ratios_all = [list_of_ratios_1, list_of_ratios_2, list_of_ratios_3]"
   ]
  },
  {
   "cell_type": "code",
   "execution_count": 4,
   "metadata": {},
   "outputs": [],
   "source": [
    "for i in range(len(list_of_surfactants_all)):\n",
    "    exp, small_exp = cmc_exp.generate_exp(list_of_surfactants_all[i], list_of_ratios_all[i])\n",
    "    globals()[f\"exp_{i+1}\"] = exp\n",
    "    globals()[f\"small_exp_{i+1}\"] = small_exp\n",
    "\n",
    "    # Save\n",
    "    with open( f\"exp_{i+1}.pkl\", \"wb\") as f:\n",
    "        pickle.dump({\"exp\": exp, \"small_exp\": small_exp}, f)\n"
   ]
  },
  {
   "cell_type": "code",
   "execution_count": 5,
   "metadata": {},
   "outputs": [],
   "source": [
    "# with open(\"exp_1.pkl\", \"rb\") as f:\n",
    "#     data = pickle.load(f)\n",
    "\n",
    "# data\n"
   ]
  },
  {
   "cell_type": "code",
   "execution_count": 6,
   "metadata": {},
   "outputs": [],
   "source": [
    "list_of_exps = {\n",
    "    'exp1': small_exp_1,\n",
    "    'exp2': small_exp_2,\n",
    "    'exp3': small_exp_3,\n",
    "    # 'exp4': small_exp_4,\n",
    "    # 'exp5': small_exp_5,\n",
    "    # 'exp6': small_exp_6,\n",
    "    # 'exp7': small_exp_7,\n",
    "    # 'exp8': small_exp_8,\n",
    "    }"
   ]
  },
  {
   "cell_type": "code",
   "execution_count": 7,
   "metadata": {},
   "outputs": [],
   "source": [
    "template_file_path = 'helper_functions/cmc_OTFlex_template.py'\n",
    "output_file_path = 'cmc_OTFlex_protocol_new.py'"
   ]
  },
  {
   "cell_type": "code",
   "execution_count": 8,
   "metadata": {},
   "outputs": [],
   "source": [
    "make_OTFlex_protocol(list_of_exps = list_of_exps, \n",
    "                     template_file_path = template_file_path, \n",
    "                     output_file_path =output_file_path, \n",
    "                     solvent_mix_loc = 'C1', \n",
    "                     row = 'A')"
   ]
  },
  {
   "cell_type": "code",
   "execution_count": null,
   "metadata": {},
   "outputs": [],
   "source": []
  }
 ],
 "metadata": {
  "kernelspec": {
   "display_name": "CMC",
   "language": "python",
   "name": "python3"
  },
  "language_info": {
   "codemirror_mode": {
    "name": "ipython",
    "version": 3
   },
   "file_extension": ".py",
   "mimetype": "text/x-python",
   "name": "python",
   "nbconvert_exporter": "python",
   "pygments_lexer": "ipython3",
   "version": "3.10.16"
  }
 },
 "nbformat": 4,
 "nbformat_minor": 2
}
