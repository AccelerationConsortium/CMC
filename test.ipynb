{
 "cells": [
  {
   "cell_type": "code",
   "execution_count": 1,
   "metadata": {},
   "outputs": [],
   "source": [
    "from cmc_calculation import CMC_plot"
   ]
  },
  {
   "cell_type": "code",
   "execution_count": 2,
   "metadata": {},
   "outputs": [
    {
     "data": {
      "text/plain": [
       "<function cmc_calculation.CMC_plot(i1_i3_ratio, conc)>"
      ]
     },
     "execution_count": 2,
     "metadata": {},
     "output_type": "execute_result"
    }
   ],
   "source": [
    "CMC_plot"
   ]
  },
  {
   "cell_type": "code",
   "execution_count": 3,
   "metadata": {},
   "outputs": [
    {
     "data": {
      "text/plain": [
       "{'surfactant_1': {'MW': 'tba', 'CAS': 'tba', 'CMC': 'tba', 'SMILES': 'tba'},\n",
       " 'surfactant_2': {'MW': 'tba', 'CAS': 'tba', 'CMC': 'tba', 'SMILES': 'tba'},\n",
       " 'surfactant_3': {'MW': 'tba', 'CAS': 'tba', 'CMC': 'tba', 'SMILES': 'tba'},\n",
       " 'surfactant_4': {'MW': 'tba', 'CAS': 'tba', 'CMC': 'tba', 'SMILES': 'tba'},\n",
       " 'surfactant_5': {'MW': 'tba', 'CAS': 'tba', 'CMC': 'tba', 'SMILES': 'tba'},\n",
       " 'surfactant_6': {'MW': 'tba', 'CAS': 'tba', 'CMC': 'tba', 'SMILES': 'tba'},\n",
       " 'surfactant_7': {'MW': 'tba', 'CAS': 'tba', 'CMC': 'tba', 'SMILES': 'tba'},\n",
       " 'surfactant_8': {'MW': 'tba', 'CAS': 'tba', 'CMC': 'tba', 'SMILES': 'tba'},\n",
       " 'surfactant_9': {'MW': 'tba', 'CAS': 'tba', 'CMC': 'tba', 'SMILES': 'tba'},\n",
       " 'surfactant_10': {'MW': 'tba', 'CAS': 'tba', 'CMC': 'tba', 'SMILES': 'tba'},\n",
       " 'surfactant_11': {'MW': 'tba', 'CAS': 'tba', 'CMC': 'tba', 'SMILES': 'tba'},\n",
       " 'surfactant_12': {'MW': 'tba', 'CAS': 'tba', 'CMC': 'tba', 'SMILES': 'tba'}}"
      ]
     },
     "execution_count": 3,
     "metadata": {},
     "output_type": "execute_result"
    }
   ],
   "source": [
    "from cmc_dilution import surfactant_library\n",
    "\n",
    "surfactant_library"
   ]
  },
  {
   "cell_type": "code",
   "execution_count": null,
   "metadata": {},
   "outputs": [
    {
     "data": {
      "text/plain": [
       "{'surfactant_1': {'MW': 'tba', 'CAS': 'tba', 'CMC': 'tba', 'SMILES': 'tba'},\n",
       " 'surfactant_2': {'MW': 'tba', 'CAS': 'tba', 'CMC': 'tba', 'SMILES': 'tba'},\n",
       " 'surfactant_3': {'MW': 'tba', 'CAS': 'tba', 'CMC': 'tba', 'SMILES': 'tba'},\n",
       " 'surfactant_4': {'MW': 'tba', 'CAS': 'tba', 'CMC': 'tba', 'SMILES': 'tba'},\n",
       " 'surfactant_5': {'MW': 'tba', 'CAS': 'tba', 'CMC': 'tba', 'SMILES': 'tba'},\n",
       " 'surfactant_6': {'MW': 'tba', 'CAS': 'tba', 'CMC': 'tba', 'SMILES': 'tba'},\n",
       " 'surfactant_7': {'MW': 'tba', 'CAS': 'tba', 'CMC': 'tba', 'SMILES': 'tba'},\n",
       " 'surfactant_8': {'MW': 'tba', 'CAS': 'tba', 'CMC': 'tba', 'SMILES': 'tba'},\n",
       " 'surfactant_9': {'MW': 'tba', 'CAS': 'tba', 'CMC': 'tba', 'SMILES': 'tba'},\n",
       " 'surfactant_10': {'MW': 'tba', 'CAS': 'tba', 'CMC': 'tba', 'SMILES': 'tba'},\n",
       " 'surfactant_11': {'MW': 'tba', 'CAS': 'tba', 'CMC': 'tba', 'SMILES': 'tba'},\n",
       " 'surfactant_12': {'MW': 'tba', 'CAS': 'tba', 'CMC': 'tba', 'SMILES': 'tba'}}"
      ]
     },
     "execution_count": 5,
     "metadata": {},
     "output_type": "execute_result"
    }
   ],
   "source": [
    "import cmc_dilution\n",
    "\n",
    "cmc_dilution.surfactant_library"
   ]
  },
  {
   "cell_type": "code",
   "execution_count": null,
   "metadata": {},
   "outputs": [],
   "source": []
  }
 ],
 "metadata": {
  "kernelspec": {
   "display_name": "CMC",
   "language": "python",
   "name": "python3"
  },
  "language_info": {
   "codemirror_mode": {
    "name": "ipython",
    "version": 3
   },
   "file_extension": ".py",
   "mimetype": "text/x-python",
   "name": "python",
   "nbconvert_exporter": "python",
   "pygments_lexer": "ipython3",
   "version": "3.10.16"
  }
 },
 "nbformat": 4,
 "nbformat_minor": 2
}
