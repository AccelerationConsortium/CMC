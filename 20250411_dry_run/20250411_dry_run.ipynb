{
 "cells": [
  {
   "cell_type": "code",
   "execution_count": 81,
   "metadata": {},
   "outputs": [],
   "source": [
    "import sys\n",
    "import pickle\n",
    "sys.path.append('../helper_functions')  # Add the helper_functions folder to the path\n",
    "\n",
    "import cmc_exp\n",
    "from cmc_generate_protocol import make_OTFlex_protocol\n",
    "import pickle\n"
   ]
  },
  {
   "cell_type": "code",
   "execution_count": 82,
   "metadata": {},
   "outputs": [],
   "source": [
    "# Define experiments\n",
    "\n",
    "list_of_surfactants_1 = ['s1', None, None]\n",
    "list_of_ratios_1 = [1, 0., 0.]\n",
    "\n",
    "list_of_surfactants_2 = ['s1', 's2', None]\n",
    "list_of_ratios_2 = [0.3, 0.7, 0.]\n",
    "\n",
    "list_of_surfactants_3 = ['s1', 's2', 's3']\n",
    "list_of_ratios_3 = [0.2, 0.5, 0.3]"
   ]
  },
  {
   "cell_type": "code",
   "execution_count": 83,
   "metadata": {},
   "outputs": [],
   "source": [
    "list_of_surfactants_all = [list_of_surfactants_1, list_of_surfactants_2, list_of_surfactants_3]\n",
    "list_of_ratios_all = [list_of_ratios_1, list_of_ratios_2, list_of_ratios_3]"
   ]
  },
  {
   "cell_type": "code",
   "execution_count": 84,
   "metadata": {},
   "outputs": [],
   "source": [
    "for i in range(len(list_of_surfactants_all)):\n",
    "    exp, small_exp = cmc_exp.generate_exp(list_of_surfactants_all[i], list_of_ratios_all[i])\n",
    "    globals()[f\"exp_{i+1}\"] = exp\n",
    "    globals()[f\"small_exp_{i+1}\"] = small_exp\n",
    "\n",
    "    # Save\n",
    "    with open( f\"exp_{i+1}.pkl\", \"wb\") as f:\n",
    "        pickle.dump({\"exp\": exp, \"small_exp\": small_exp}, f)\n"
   ]
  },
  {
   "cell_type": "code",
   "execution_count": 85,
   "metadata": {},
   "outputs": [],
   "source": [
    "list_of_exps = {\n",
    "    #'exp1': small_exp_1,\n",
    "    'exp2': small_exp_2,\n",
    "    'exp3': small_exp_3,\n",
    "    # 'exp4': small_exp_4,\n",
    "    # 'exp5': small_exp_5,\n",
    "    # 'exp6': small_exp_6,\n",
    "    # 'exp7': small_exp_7,\n",
    "    # 'exp8': small_exp_8,\n",
    "    }"
   ]
  },
  {
   "cell_type": "code",
   "execution_count": 86,
   "metadata": {},
   "outputs": [],
   "source": [
    "template_file_path = '../helper_functions/cmc_OTFlex_template.py'\n",
    "output_file_path = '20250411_dryrun_12.py'"
   ]
  },
  {
   "cell_type": "code",
   "execution_count": 87,
   "metadata": {},
   "outputs": [],
   "source": [
    "make_OTFlex_protocol(list_of_exps = list_of_exps, \n",
    "                     template_file_path = template_file_path, \n",
    "                     output_file_path =output_file_path, \n",
    "                     solvent_mix_loc = 'B1', \n",
    "                     row = 'G')"
   ]
  },
  {
   "cell_type": "code",
   "execution_count": 88,
   "metadata": {},
   "outputs": [
    {
     "data": {
      "text/plain": [
       "{'exp': {'list_of_surfactants': ['s1', None, None],\n",
       "  'list_of_ratios': [1, 0.0, 0.0],\n",
       "  'original_surfactant_stock_concs': [50, 50, 50],\n",
       "  'surfactant_mix_stock_conc': 0.3030303030303031,\n",
       "  'surfactant_mix_stock_vols': {'s1': 10.909090909090912,\n",
       "   'None_2': 0,\n",
       "   'None_3': 0,\n",
       "   'water': 1789.090909090909},\n",
       "  'estimated_CMC': 0.1,\n",
       "  'df':     concentration  surfactant volume  water volume  probe volume  total volume\n",
       "  0        0.033333              32.67        264.33             3         300.0\n",
       "  1        0.047140              46.20        250.80             3         300.0\n",
       "  2        0.066667              65.34        231.66             3         300.0\n",
       "  3        0.075000              73.51        223.49             3         300.0\n",
       "  4        0.085000              83.31        213.69             3         300.0\n",
       "  5        0.095000              93.11        203.89             3         300.0\n",
       "  6        0.105000             102.91        194.09             3         300.0\n",
       "  7        0.115000             112.71        184.29             3         300.0\n",
       "  8        0.125000             122.51        174.49             3         300.0\n",
       "  9        0.150000             147.02        149.98             3         300.0\n",
       "  10       0.212132             207.91         89.09             3         300.0\n",
       "  11       0.300000             294.03          2.97             3         300.0},\n",
       " 'small_exp': {'surfactant_mix_stock_vols': {'s1': 10.909090909090912,\n",
       "   'None_2': 0,\n",
       "   'None_3': 0,\n",
       "   'water': 1789.090909090909},\n",
       "  'solvent_mix_vol': [32.67,\n",
       "   46.2,\n",
       "   65.34,\n",
       "   73.51,\n",
       "   83.31,\n",
       "   93.11,\n",
       "   102.91,\n",
       "   112.71,\n",
       "   122.51,\n",
       "   147.02,\n",
       "   207.91,\n",
       "   294.03],\n",
       "  'water_vol': [264.33,\n",
       "   250.8,\n",
       "   231.66,\n",
       "   223.49,\n",
       "   213.69,\n",
       "   203.89,\n",
       "   194.09,\n",
       "   184.29,\n",
       "   174.49,\n",
       "   149.98,\n",
       "   89.09,\n",
       "   2.97],\n",
       "  'pyrene_vol': [3, 3, 3, 3, 3, 3, 3, 3, 3, 3, 3, 3]}}"
      ]
     },
     "execution_count": 88,
     "metadata": {},
     "output_type": "execute_result"
    }
   ],
   "source": [
    "with open(\"exp_1.pkl\", \"rb\") as f:\n",
    "    data = pickle.load(f)\n",
    "\n",
    "data"
   ]
  },
  {
   "cell_type": "code",
   "execution_count": null,
   "metadata": {},
   "outputs": [],
   "source": []
  }
 ],
 "metadata": {
  "kernelspec": {
   "display_name": "CMC",
   "language": "python",
   "name": "python3"
  },
  "language_info": {
   "codemirror_mode": {
    "name": "ipython",
    "version": 3
   },
   "file_extension": ".py",
   "mimetype": "text/x-python",
   "name": "python",
   "nbconvert_exporter": "python",
   "pygments_lexer": "ipython3",
   "version": "3.10.16"
  }
 },
 "nbformat": 4,
 "nbformat_minor": 2
}
