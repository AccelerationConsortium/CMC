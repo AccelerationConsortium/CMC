{
 "cells": [
  {
   "cell_type": "code",
   "execution_count": 11,
   "metadata": {},
   "outputs": [],
   "source": [
    "import sys\n",
    "import pickle\n",
    "sys.path.append('../helper_functions')  # Add the helper_functions folder to the path\n",
    "\n",
    "import cmc_exp\n",
    "from cmc_generate_protocol import make_OTFlex_protocol\n",
    "import pickle\n"
   ]
  },
  {
   "cell_type": "code",
   "execution_count": 12,
   "metadata": {},
   "outputs": [],
   "source": [
    "# Define experiments\n",
    "\n",
    "list_of_surfactants_1 = ['T80', None, None]\n",
    "list_of_ratios_1 = [1, 0., 0.]\n",
    "\n",
    "list_of_surfactants_2 = ['SDS', 'T20', None]\n",
    "list_of_ratios_2 = [0.3, 0.7, 0.]\n",
    "\n",
    "list_of_surfactants_3 = ['BAC', 'P188', 'P407']\n",
    "list_of_ratios_3 = [0.2, 0.5, 0.3]"
   ]
  },
  {
   "cell_type": "code",
   "execution_count": 13,
   "metadata": {},
   "outputs": [],
   "source": [
    "list_of_surfactants_all = [list_of_surfactants_1, list_of_surfactants_2, list_of_surfactants_3]\n",
    "list_of_ratios_all = [list_of_ratios_1, list_of_ratios_2, list_of_ratios_3]"
   ]
  },
  {
   "cell_type": "code",
   "execution_count": 14,
   "metadata": {},
   "outputs": [],
   "source": [
    "for i in range(len(list_of_surfactants_all)):\n",
    "    exp, small_exp = cmc_exp.generate_exp(list_of_surfactants_all[i], list_of_ratios_all[i])\n",
    "    globals()[f\"exp_{i+1}\"] = exp\n",
    "    globals()[f\"small_exp_{i+1}\"] = small_exp\n",
    "\n",
    "    # Save\n",
    "    with open( f\"exp_{i+1}.pkl\", \"wb\") as f:\n",
    "        pickle.dump({\"exp\": exp, \"small_exp\": small_exp}, f)\n"
   ]
  },
  {
   "cell_type": "code",
   "execution_count": 15,
   "metadata": {},
   "outputs": [],
   "source": [
    "list_of_exps = {\n",
    "    #'exp1': small_exp_1,\n",
    "    'exp2': small_exp_2,\n",
    "    'exp3': small_exp_3,\n",
    "    # 'exp4': small_exp_4,\n",
    "    # 'exp5': small_exp_5,\n",
    "    # 'exp6': small_exp_6,\n",
    "    # 'exp7': small_exp_7,\n",
    "    # 'exp8': small_exp_8,\n",
    "    }"
   ]
  },
  {
   "cell_type": "code",
   "execution_count": 16,
   "metadata": {},
   "outputs": [],
   "source": [
    "template_file_path = '../helper_functions/cmc_OTFlex_protocol.py'\n",
    "output_file_path = '20250417_example.py'"
   ]
  },
  {
   "cell_type": "code",
   "execution_count": 17,
   "metadata": {},
   "outputs": [],
   "source": [
    "make_OTFlex_protocol(list_of_exps = list_of_exps, \n",
    "                     template_file_path = template_file_path, \n",
    "                     output_file_path =output_file_path, \n",
    "                     solvent_mix_loc = 'B1', \n",
    "                     row = 'G')"
   ]
  },
  {
   "cell_type": "code",
   "execution_count": 18,
   "metadata": {},
   "outputs": [
    {
     "data": {
      "text/plain": [
       "{'exp': {'list_of_surfactants': ['SDS', 'T20', None],\n",
       "  'list_of_ratios': [0.3, 0.7, 0.0],\n",
       "  'original_surfactant_stock_concs': [50, 50, 50],\n",
       "  'surfactant_sub_stock_conc': 0.15339846716067584,\n",
       "  'surfactant_sub_stock_vols': {'SDS': 4.601954014820275,\n",
       "   'T20': 10.737892701247308,\n",
       "   'None_3': 0,\n",
       "   'water': 4984.660153283932},\n",
       "  'estimated_CMC': 0.05062149416302303,\n",
       "  'df':     concentration  surfactant volume  water volume  probe volume  total volume\n",
       "  0        0.016874             108.90        881.10            10       1000.00\n",
       "  1        0.023863             154.01        835.99            10       1000.00\n",
       "  2        0.033748             217.80        772.20            10       1000.00\n",
       "  3        0.037966             245.03        744.98            10       1000.01\n",
       "  4        0.043028             277.69        712.31            10       1000.00\n",
       "  5        0.048090             310.37        679.63            10       1000.00\n",
       "  6        0.053153             343.03        646.97            10       1000.00\n",
       "  7        0.058215             375.71        614.29            10       1000.00\n",
       "  8        0.063277             408.38        581.62            10       1000.00\n",
       "  9        0.075932             490.05        499.95            10       1000.00\n",
       "  10       0.107384             693.04        296.96            10       1000.00\n",
       "  11       0.151864             980.10          9.90            10       1000.00},\n",
       " 'small_exp': {'surfactant_sub_stock_vols': {'SDS': 4.601954014820275,\n",
       "   'T20': 10.737892701247308,\n",
       "   'None_3': 0,\n",
       "   'water': 4984.660153283932},\n",
       "  'solvent_sub_vol': [108.9,\n",
       "   154.01,\n",
       "   217.8,\n",
       "   245.03,\n",
       "   277.69,\n",
       "   310.37,\n",
       "   343.03,\n",
       "   375.71,\n",
       "   408.38,\n",
       "   490.05,\n",
       "   693.04,\n",
       "   980.1],\n",
       "  'water_vol': [881.1,\n",
       "   835.99,\n",
       "   772.2,\n",
       "   744.98,\n",
       "   712.31,\n",
       "   679.63,\n",
       "   646.97,\n",
       "   614.29,\n",
       "   581.62,\n",
       "   499.95,\n",
       "   296.96,\n",
       "   9.9],\n",
       "  'pyrene_vol': [10, 10, 10, 10, 10, 10, 10, 10, 10, 10, 10, 10]}}"
      ]
     },
     "execution_count": 18,
     "metadata": {},
     "output_type": "execute_result"
    }
   ],
   "source": [
    "with open(\"exp_2.pkl\", \"rb\") as f:\n",
    "    data = pickle.load(f)\n",
    "\n",
    "data"
   ]
  },
  {
   "cell_type": "code",
   "execution_count": 19,
   "metadata": {},
   "outputs": [
    {
     "data": {
      "text/plain": [
       "4604.110000000001"
      ]
     },
     "execution_count": 19,
     "metadata": {},
     "output_type": "execute_result"
    }
   ],
   "source": [
    "sum(data['small_exp']['solvent_sub_vol'])"
   ]
  },
  {
   "cell_type": "code",
   "execution_count": 20,
   "metadata": {},
   "outputs": [
    {
     "data": {
      "text/plain": [
       "{'surfactant_sub_stock_vols': {'SDS': 4.601954014820275,\n",
       "  'T20': 10.737892701247308,\n",
       "  'None_3': 0,\n",
       "  'water': 4984.660153283932},\n",
       " 'solvent_sub_vol': [108.9,\n",
       "  154.01,\n",
       "  217.8,\n",
       "  245.03,\n",
       "  277.69,\n",
       "  310.37,\n",
       "  343.03,\n",
       "  375.71,\n",
       "  408.38,\n",
       "  490.05,\n",
       "  693.04,\n",
       "  980.1],\n",
       " 'water_vol': [881.1,\n",
       "  835.99,\n",
       "  772.2,\n",
       "  744.98,\n",
       "  712.31,\n",
       "  679.63,\n",
       "  646.97,\n",
       "  614.29,\n",
       "  581.62,\n",
       "  499.95,\n",
       "  296.96,\n",
       "  9.9],\n",
       " 'pyrene_vol': [10, 10, 10, 10, 10, 10, 10, 10, 10, 10, 10, 10]}"
      ]
     },
     "execution_count": 20,
     "metadata": {},
     "output_type": "execute_result"
    }
   ],
   "source": [
    "data['small_exp']"
   ]
  },
  {
   "cell_type": "code",
   "execution_count": null,
   "metadata": {},
   "outputs": [],
   "source": []
  }
 ],
 "metadata": {
  "kernelspec": {
   "display_name": "CMC",
   "language": "python",
   "name": "python3"
  },
  "language_info": {
   "codemirror_mode": {
    "name": "ipython",
    "version": 3
   },
   "file_extension": ".py",
   "mimetype": "text/x-python",
   "name": "python",
   "nbconvert_exporter": "python",
   "pygments_lexer": "ipython3",
   "version": "3.10.16"
  }
 },
 "nbformat": 4,
 "nbformat_minor": 2
}
