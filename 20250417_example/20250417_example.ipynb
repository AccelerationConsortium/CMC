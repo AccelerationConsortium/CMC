{
 "cells": [
  {
   "cell_type": "code",
   "execution_count": 2,
   "metadata": {},
   "outputs": [],
   "source": [
    "import sys\n",
    "import pickle\n",
    "sys.path.append('../helper_functions')  # Add the helper_functions folder to the path\n",
    "\n",
    "import cmc_exp\n",
    "from cmc_generate_protocol import make_OTFlex_protocol\n",
    "import pickle\n"
   ]
  },
  {
   "cell_type": "code",
   "execution_count": 3,
   "metadata": {},
   "outputs": [],
   "source": [
    "# Define experiments\n",
    "\n",
    "list_of_surfactants_1 = ['SDS', None, None]\n",
    "list_of_ratios_1 = [1, 0., 0.]\n",
    "\n",
    "list_of_surfactants_2 = ['SDS', 'SLS', None]\n",
    "list_of_ratios_2 = [0.3, 0.7, 0.]\n",
    "\n",
    "# list_of_surfactants_3 = ['BAC', 'P188', 'P407']\n",
    "# list_of_ratios_3 = [0.2, 0.5, 0.3]"
   ]
  },
  {
   "cell_type": "code",
   "execution_count": 4,
   "metadata": {},
   "outputs": [],
   "source": [
    "list_of_surfactants_all = [list_of_surfactants_1, list_of_surfactants_2]\n",
    "list_of_ratios_all = [list_of_ratios_1, list_of_ratios_2]"
   ]
  },
  {
   "cell_type": "code",
   "execution_count": 5,
   "metadata": {},
   "outputs": [],
   "source": [
    "for i in range(len(list_of_surfactants_all)):\n",
    "    exp, small_exp = cmc_exp.generate_exp(list_of_surfactants_all[i], list_of_ratios_all[i])\n",
    "    globals()[f\"exp_{i+1}\"] = exp\n",
    "    globals()[f\"small_exp_{i+1}\"] = small_exp\n",
    "\n",
    "    # Save\n",
    "    with open( f\"exp_{i+1}.pkl\", \"wb\") as f:\n",
    "        pickle.dump({\"exp\": exp, \"small_exp\": small_exp}, f)\n"
   ]
  },
  {
   "cell_type": "code",
   "execution_count": 8,
   "metadata": {},
   "outputs": [],
   "source": [
    "list_of_exps = {\n",
    "    'exp1': small_exp_1,\n",
    "    'exp2': small_exp_2,\n",
    "    #'exp3': small_exp_3,\n",
    "    # 'exp4': small_exp_4,\n",
    "    # 'exp5': small_exp_5,\n",
    "    # 'exp6': small_exp_6,\n",
    "    # 'exp7': small_exp_7,\n",
    "    # 'exp8': small_exp_8,\n",
    "    }"
   ]
  },
  {
   "cell_type": "code",
   "execution_count": 10,
   "metadata": {},
   "outputs": [],
   "source": [
    "template_file_path = '../helper_functions/cmc_OTFlex_protocol.py'\n",
    "output_file_path = '20250422.py'"
   ]
  },
  {
   "cell_type": "code",
   "execution_count": 11,
   "metadata": {},
   "outputs": [],
   "source": [
    "make_OTFlex_protocol(list_of_exps = list_of_exps, \n",
    "                     template_file_path = template_file_path, \n",
    "                     output_file_path =output_file_path, \n",
    "                     solvent_mix_loc = 'B1', \n",
    "                     row = 'G')"
   ]
  },
  {
   "cell_type": "code",
   "execution_count": 12,
   "metadata": {},
   "outputs": [
    {
     "data": {
      "text/plain": [
       "{'exp': {'list_of_surfactants': ['SDS', 'SLS', None],\n",
       "  'list_of_ratios': [0.3, 0.7, 0.0],\n",
       "  'original_surfactant_stock_concs': [50, 50, 50],\n",
       "  'surfactant_sub_stock_conc': 23.850574712643677,\n",
       "  'surfactant_sub_stock_vols': {'SDS': 715.5172413793102,\n",
       "   'SLS': 1669.5402298850572,\n",
       "   'None_3': 0,\n",
       "   'water': 2614.9425287356325},\n",
       "  'estimated_CMC': 7.870689655172415,\n",
       "  'df':     concentration  surfactant volume  water volume  probe volume  total volume\n",
       "  0        2.623563             108.90        881.10            10        1000.0\n",
       "  1        3.710279             154.01        835.99            10        1000.0\n",
       "  2        5.247126             217.80        772.20            10        1000.0\n",
       "  3        5.903017             245.03        744.97            10        1000.0\n",
       "  4        6.690086             277.70        712.30            10        1000.0\n",
       "  5        7.477155             310.37        679.63            10        1000.0\n",
       "  6        8.264224             343.03        646.97            10        1000.0\n",
       "  7        9.051293             375.71        614.29            10        1000.0\n",
       "  8        9.838362             408.38        581.62            10        1000.0\n",
       "  9       11.806034             490.05        499.95            10        1000.0\n",
       "  10      16.696254             693.04        296.96            10        1000.0\n",
       "  11      23.612069             980.10          9.90            10        1000.0},\n",
       " 'small_exp': {'surfactant_sub_stock_vols': {'SDS': 715.5172413793102,\n",
       "   'SLS': 1669.5402298850572,\n",
       "   'None_3': 0,\n",
       "   'water': 2614.9425287356325},\n",
       "  'solvent_sub_vol': [108.9,\n",
       "   154.01,\n",
       "   217.8,\n",
       "   245.03,\n",
       "   277.7,\n",
       "   310.37,\n",
       "   343.03,\n",
       "   375.71,\n",
       "   408.38,\n",
       "   490.05,\n",
       "   693.04,\n",
       "   980.1],\n",
       "  'water_vol': [881.1,\n",
       "   835.99,\n",
       "   772.2,\n",
       "   744.97,\n",
       "   712.3,\n",
       "   679.63,\n",
       "   646.97,\n",
       "   614.29,\n",
       "   581.62,\n",
       "   499.95,\n",
       "   296.96,\n",
       "   9.9],\n",
       "  'pyrene_vol': [10, 10, 10, 10, 10, 10, 10, 10, 10, 10, 10, 10]}}"
      ]
     },
     "execution_count": 12,
     "metadata": {},
     "output_type": "execute_result"
    }
   ],
   "source": [
    "with open(\"exp_2.pkl\", \"rb\") as f:\n",
    "    data = pickle.load(f)\n",
    "\n",
    "data"
   ]
  },
  {
   "cell_type": "code",
   "execution_count": 13,
   "metadata": {},
   "outputs": [
    {
     "data": {
      "text/plain": [
       "4604.12"
      ]
     },
     "execution_count": 13,
     "metadata": {},
     "output_type": "execute_result"
    }
   ],
   "source": [
    "sum(data['small_exp']['solvent_sub_vol'])"
   ]
  },
  {
   "cell_type": "code",
   "execution_count": 14,
   "metadata": {},
   "outputs": [
    {
     "data": {
      "text/plain": [
       "{'surfactant_sub_stock_vols': {'SDS': 715.5172413793102,\n",
       "  'SLS': 1669.5402298850572,\n",
       "  'None_3': 0,\n",
       "  'water': 2614.9425287356325},\n",
       " 'solvent_sub_vol': [108.9,\n",
       "  154.01,\n",
       "  217.8,\n",
       "  245.03,\n",
       "  277.7,\n",
       "  310.37,\n",
       "  343.03,\n",
       "  375.71,\n",
       "  408.38,\n",
       "  490.05,\n",
       "  693.04,\n",
       "  980.1],\n",
       " 'water_vol': [881.1,\n",
       "  835.99,\n",
       "  772.2,\n",
       "  744.97,\n",
       "  712.3,\n",
       "  679.63,\n",
       "  646.97,\n",
       "  614.29,\n",
       "  581.62,\n",
       "  499.95,\n",
       "  296.96,\n",
       "  9.9],\n",
       " 'pyrene_vol': [10, 10, 10, 10, 10, 10, 10, 10, 10, 10, 10, 10]}"
      ]
     },
     "execution_count": 14,
     "metadata": {},
     "output_type": "execute_result"
    }
   ],
   "source": [
    "data['small_exp']"
   ]
  },
  {
   "cell_type": "code",
   "execution_count": null,
   "metadata": {},
   "outputs": [],
   "source": []
  }
 ],
 "metadata": {
  "kernelspec": {
   "display_name": "CMC",
   "language": "python",
   "name": "python3"
  },
  "language_info": {
   "codemirror_mode": {
    "name": "ipython",
    "version": 3
   },
   "file_extension": ".py",
   "mimetype": "text/x-python",
   "name": "python",
   "nbconvert_exporter": "python",
   "pygments_lexer": "ipython3",
   "version": "3.10.16"
  }
 },
 "nbformat": 4,
 "nbformat_minor": 2
}
